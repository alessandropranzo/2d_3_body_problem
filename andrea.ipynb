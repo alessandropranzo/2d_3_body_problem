{
 "cells": [
  {
   "cell_type": "code",
   "execution_count": 1,
   "metadata": {},
   "outputs": [],
   "source": [
    "import numpy as np"
   ]
  },
  {
   "cell_type": "code",
   "execution_count": 2,
   "metadata": {},
   "outputs": [],
   "source": [
    "#F is dependant on x and m.\n",
    "#f_n is F with the values of x and m at time n"
   ]
  },
  {
   "cell_type": "code",
   "execution_count": 19,
   "metadata": {},
   "outputs": [],
   "source": [
    "class Body():\n",
    "    def __init__(self, x:float, y:float, m:float) -> None:\n",
    "        self.init_position:np.ndarray = np.array([x,y])\n",
    "        self.position:np.ndarray = np.array([x,y])\n",
    "        self.mass:float = m \n",
    "        self.trajectory:list[np.ndarray] = [self.init_position]\n",
    "\n",
    "    def update_pos(self, new_pos:np.ndarray):\n",
    "        self.position = new_pos\n",
    "        self.trajectory.append(self.position)\n",
    "\n",
    "    def f_x_y(self, otherbody:'Body'):\n",
    "        \"\"\"\n",
    "        Force of function from x to y.\n",
    "        \"\"\"\n",
    "        G = 6.67e-11\n",
    "        r = otherbody.position - self.position\n",
    "        distance = np.linalg.norm(r)\n",
    "        r = r/distance\n",
    "        return G * (otherbody.mass * self.mass) * r / (distance ** 2)"
   ]
  },
  {
   "cell_type": "code",
   "execution_count": 16,
   "metadata": {},
   "outputs": [],
   "source": [
    "class Simulation():\n",
    "    def __init__(self, bodies:list[Body], t_max:int=10, t_step:float=0.1, step:int=1, alphas:list=[-1,1], betas:list=[1]):\n",
    "        self.bodies:list[Body] = bodies\n",
    "        self.t_max:int = t_max\n",
    "        self.dt:float = t_step\n",
    "        self.step:int = step\n",
    "        self.alphas:list = alphas\n",
    "        self.betas:list = betas\n",
    "\n",
    "    def run(self):\n",
    "        for t in np.arange(0, self.t_max, self.dt):\n",
    "            print(t)"
   ]
  },
  {
   "cell_type": "code",
   "execution_count": 13,
   "metadata": {},
   "outputs": [],
   "source": []
  },
  {
   "cell_type": "code",
   "execution_count": 11,
   "metadata": {},
   "outputs": [
    {
     "data": {
      "text/plain": [
       "array([4.71640223e-11, 4.71640223e-11])"
      ]
     },
     "execution_count": 11,
     "metadata": {},
     "output_type": "execute_result"
    }
   ],
   "source": [
    "f_x_y(1,2,np.array([1,2]),np.array([2,3]))"
   ]
  },
  {
   "cell_type": "code",
   "execution_count": 18,
   "metadata": {},
   "outputs": [
    {
     "name": "stdout",
     "output_type": "stream",
     "text": [
      "0.0\n",
      "0.1\n",
      "0.2\n",
      "0.30000000000000004\n",
      "0.4\n",
      "0.5\n",
      "0.6000000000000001\n",
      "0.7000000000000001\n",
      "0.8\n",
      "0.9\n",
      "1.0\n",
      "1.1\n",
      "1.2000000000000002\n",
      "1.3\n",
      "1.4000000000000001\n",
      "1.5\n",
      "1.6\n",
      "1.7000000000000002\n",
      "1.8\n",
      "1.9000000000000001\n",
      "2.0\n",
      "2.1\n",
      "2.2\n",
      "2.3000000000000003\n",
      "2.4000000000000004\n",
      "2.5\n",
      "2.6\n",
      "2.7\n",
      "2.8000000000000003\n",
      "2.9000000000000004\n",
      "3.0\n",
      "3.1\n",
      "3.2\n",
      "3.3000000000000003\n",
      "3.4000000000000004\n",
      "3.5\n",
      "3.6\n",
      "3.7\n",
      "3.8000000000000003\n",
      "3.9000000000000004\n",
      "4.0\n",
      "4.1000000000000005\n",
      "4.2\n",
      "4.3\n",
      "4.4\n",
      "4.5\n",
      "4.6000000000000005\n",
      "4.7\n",
      "4.800000000000001\n",
      "4.9\n",
      "5.0\n",
      "5.1000000000000005\n",
      "5.2\n",
      "5.300000000000001\n",
      "5.4\n",
      "5.5\n",
      "5.6000000000000005\n",
      "5.7\n",
      "5.800000000000001\n",
      "5.9\n",
      "6.0\n",
      "6.1000000000000005\n",
      "6.2\n",
      "6.300000000000001\n",
      "6.4\n",
      "6.5\n",
      "6.6000000000000005\n",
      "6.7\n",
      "6.800000000000001\n",
      "6.9\n",
      "7.0\n",
      "7.1000000000000005\n",
      "7.2\n",
      "7.300000000000001\n",
      "7.4\n",
      "7.5\n",
      "7.6000000000000005\n",
      "7.7\n",
      "7.800000000000001\n",
      "7.9\n",
      "8.0\n",
      "8.1\n",
      "8.200000000000001\n",
      "8.3\n",
      "8.4\n",
      "8.5\n",
      "8.6\n",
      "8.700000000000001\n",
      "8.8\n",
      "8.9\n",
      "9.0\n",
      "9.1\n",
      "9.200000000000001\n",
      "9.3\n",
      "9.4\n",
      "9.5\n",
      "9.600000000000001\n",
      "9.700000000000001\n",
      "9.8\n",
      "9.9\n"
     ]
    }
   ],
   "source": [
    "sim = Simulation([Body(0,0,0)])\n",
    "sim.run()"
   ]
  },
  {
   "cell_type": "code",
   "execution_count": null,
   "metadata": {},
   "outputs": [],
   "source": []
  }
 ],
 "metadata": {
  "kernelspec": {
   "display_name": "Python 3",
   "language": "python",
   "name": "python3"
  },
  "language_info": {
   "codemirror_mode": {
    "name": "ipython",
    "version": 3
   },
   "file_extension": ".py",
   "mimetype": "text/x-python",
   "name": "python",
   "nbconvert_exporter": "python",
   "pygments_lexer": "ipython3",
   "version": "3.12.0"
  }
 },
 "nbformat": 4,
 "nbformat_minor": 2
}
