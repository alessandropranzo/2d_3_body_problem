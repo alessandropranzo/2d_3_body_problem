{
 "cells": [
  {
   "cell_type": "markdown",
   "metadata": {},
   "source": [
    "<h1 style=\"text-align: center; color : #318CE7;\">3 BODY PROBLEMS</h1>\n",
    "<p style=\"text-align: center; color: #318CE7;\">A numerical tour about the modelling of one of the most ancient problems in astrophyics.</p>"
   ]
  },
  {
   "cell_type": "markdown",
   "metadata": {},
   "source": [
    "The three-body problem is a classic problem in physics and mathematics that involves predicting the motion of three celestial bodies based on their mutual gravitational attraction. The complexity of the problem arises from the fact that each body influences the others in a non-linear and dynamic manner, making it difficult to find exact solutions. Historically, the problem has been significant in the study of orbital mechanics, with applications ranging from predicting the motion of planets and moons to understanding the dynamics of star systems."
   ]
  },
  {
   "cell_type": "markdown",
   "metadata": {},
   "source": [
    "In this notebook, we will specifically explore the three-body problem in two dimensions. By reducing the problem to two dimensions, we simplify the equations and focus on understanding the fundamental interactions and dynamics. We will model the positions and velocities of three bodies in a plane and analyze their motion over time. This study will provide insights into the complex behavior and chaotic nature of multi-body gravitational systems, while also making the problem more approachable computationally."
   ]
  },
  {
   "cell_type": "markdown",
   "metadata": {},
   "source": [
    "### Approach:\n",
    "\n",
    "The notebook will be divided in 5 parts:\n",
    "\n",
    "    1. Firstly, we will derive the problem mathematically and study its stability.\n",
    "    2. Then we will start with the first scenario: 3 planets system, studied with [.]\n",
    "    3. Then we will study how the behavior changes with bigger masses: a 3 stars system, analyzied with [.]\n",
    "    4. After this we will mix different orders of magnitude of masses to study a 2 stars and 1 planet system, analyzied with [.]\n",
    "    5. Symmetrically we will study a 2 planets and 1 star system, analyzed with [.]\n",
    "    6. Finally we will try to understand the behavior of a 1 planet, 1 star, and 1 asteroid system, studied with [.]\n",
    "    Extra. As an extra, we will end the notebook by analyzing the behaviour of a fluid celestial body and 2 planets, deploying numerical Wasserstein gradient flows."
   ]
  },
  {
   "cell_type": "code",
   "execution_count": null,
   "metadata": {
    "vscode": {
     "languageId": "plaintext"
    }
   },
   "outputs": [],
   "source": [
    "## 1. Mathematics behind the"
   ]
  }
 ],
 "metadata": {
  "language_info": {
   "name": "python"
  }
 },
 "nbformat": 4,
 "nbformat_minor": 2
}
