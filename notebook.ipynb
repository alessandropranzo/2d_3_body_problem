{
 "cells": [
  {
   "cell_type": "markdown",
   "metadata": {},
   "source": [
    "<h1 style=\"text-align: center; color : #318CE7;\">3 BODY PROBLEMS</h1>\n",
    "<p style=\"text-align: center; color: #318CE7;\">A numerical tour about the modelling of one of the most ancient problems in astrophyics.</p>"
   ]
  },
  {
   "cell_type": "markdown",
   "metadata": {},
   "source": [
    "The three-body problem is a classic problem in physics and mathematics that involves predicting the motion of three celestial bodies based on their mutual gravitational attraction. The complexity of the problem arises from the fact that each body influences the others in a non-linear and dynamic manner, making it difficult to find exact solutions. Historically, the problem has been significant in the study of orbital mechanics, with applications ranging from predicting the motion of planets and moons to understanding the dynamics of star systems."
   ]
  },
  {
   "cell_type": "markdown",
   "metadata": {},
   "source": [
    "In this notebook, we will specifically explore the three-body problem in two dimensions. By reducing the problem to two dimensions, we simplify the equations and focus on understanding the fundamental interactions and dynamics. We will model the positions and velocities of three bodies in a plane and analyze their motion over time. This study will provide insights into the complex behavior and chaotic nature of multi-body gravitational systems, while also making the problem more approachable computationally."
   ]
  },
  {
   "cell_type": "markdown",
   "metadata": {},
   "source": [
    "### Approach:\n",
    "\n",
    "The notebook will be divided in 5 parts:\n",
    "\n",
    "    1. Firstly, we will derive the problem mathematically and study its stability.\n",
    "    2. Then we will start with the first scenario: 3 planets system, studied with [.]\n",
    "    3. Then we will study how the behavior changes with bigger masses: a 3 stars system, analyzied with [.]\n",
    "    4. After this we will mix different orders of magnitude of masses to study a 2 stars and 1 planet system, analyzied with [.]\n",
    "    5. Symmetrically we will study a 2 planets and 1 star system, analyzed with [.]\n",
    "    6. Finally we will try to understand the behavior of a 1 planet, 1 star, and 1 asteroid system, studied with [.]\n",
    "    Extra. As an extra, we will end the notebook by analyzing the behaviour of a fluid celestial body and 2 planets, deploying numerical Wasserstein gradient flows."
   ]
  },
  {
   "cell_type": "markdown",
   "metadata": {},
   "source": [
    "## (1.) Mathematics behind the problem"
   ]
  },
  {
   "cell_type": "markdown",
   "metadata": {},
   "source": [
    "The starting point for understanding the Three-Body Problem is Newton's law of universal gravitation. According to this law, the gravitational force $(\\mathbf{F})$ between two masses $(m_1)$ and $(m_2)$ separated by a distance $(r)$ is given by:\n",
    "\n",
    "$$\n",
    "\\mathbf{F} = G \\frac{m_1 m_2}{r^2} \\hat{\\mathbf{r}}\n",
    "$$\n",
    "\n",
    "where:\n",
    "- $(G)$ is the gravitational constant,\n",
    "- $(r)$ is the distance between the centers of the two masses,\n",
    "- $(\\hat{\\mathbf{r}})$ is the unit vector pointing from one mass to the other.\n",
    "\n",
    "### The Equations of Motion\n",
    "\n",
    "In the Three-Body Problem, we consider three masses $(m_1), (m_2)$, and $(m_3)$ located at positions $(\\mathbf{r}_1), (\\mathbf{r}_2)$, and $(\\mathbf{r}_3)$, respectively. Each mass experiences the gravitational force due to the other two masses. The equations of motion for each mass can be written as:\n",
    "\n",
    "$$\n",
    "m_1 \\ddot{\\mathbf{r}}_1 = G \\frac{m_1 m_2}{|\\mathbf{r}_2 - \\mathbf{r}_1|^2} \\frac{\\mathbf{r}_2 - \\mathbf{r}_1}{|\\mathbf{r}_2 - \\mathbf{r}_1|} + G \\frac{m_1 m_3}{|\\mathbf{r}_3 - \\mathbf{r}_1|^2} \\frac{\\mathbf{r}_3 - \\mathbf{r}_1}{|\\mathbf{r}_3 - \\mathbf{r}_1|}\n",
    "$$\n",
    "\n",
    "$$\n",
    "m_2 \\ddot{\\mathbf{r}}_2 = G \\frac{m_2 m_1}{|\\mathbf{r}_1 - \\mathbf{r}_2|^2} \\frac{\\mathbf{r}_1 - \\mathbf{r}_2}{|\\mathbf{r}_1 - \\mathbf{r}_2|} + G \\frac{m_2 m_3}{|\\mathbf{r}_3 - \\mathbf{r}_2|^2} \\frac{\\mathbf{r}_3 - \\mathbf{r}_2}{|\\mathbf{r}_3 - \\mathbf{r}_2|}\n",
    "$$\n",
    "\n",
    "$$\n",
    "m_3 \\ddot{\\mathbf{r}}_3 = G \\frac{m_3 m_1}{|\\mathbf{r}_1 - \\mathbf{r}_3|^2} \\frac{\\mathbf{r}_1 - \\mathbf{r}_3}{|\\mathbf{r}_1 - \\mathbf{r}_3|} + G \\frac{m_3 m_2}{|\\mathbf{r}_2 - \\mathbf{r}_3|^2} \\frac{\\mathbf{r}_2 - \\mathbf{r}_3}{|\\mathbf{r}_2 - \\mathbf{r}_3|}\n",
    "$$\n",
    "\n",
    "These equations are coupled second-order differential equations and are generally solved numerically due to their complexity.\n",
    "\n",
    "### The Two-Dimensional Case\n",
    "\n",
    "For simplicity, we often consider the Three-Body Problem in two dimensions. Let the positions of the masses be given by $(\\mathbf{r}_i = (x_i, y_i))$ for $(i = 1, 2, 3)$. The equations of motion become:\n",
    "\n",
    "$$\n",
    "m_1 \\begin{pmatrix} \\ddot{x}_1 \\\\ \\ddot{y}_1 \\end{pmatrix} = G m_1 m_2 \\frac{\\begin{pmatrix} x_2 - x_1 \\\\ y_2 - y_1 \\end{pmatrix}}{((x_2 - x_1)^2 + (y_2 - y_1)^2)^{3/2}} + G m_1 m_3 \\frac{\\begin{pmatrix} x_3 - x_1 \\\\ y_3 - y_1 \\end{pmatrix}}{((x_3 - x_1)^2 + (y_3 - y_1)^2)^{3/2}}\n",
    "$$\n",
    "\n",
    "$$\n",
    "m_2 \\begin{pmatrix} \\ddot{x}_2 \\\\ \\ddot{y}_2 \\end{pmatrix} = G m_2 m_1 \\frac{\\begin{pmatrix} x_1 - x_2 \\\\ y_1 - y_2 \\end{pmatrix}}{((x_1 - x_2)^2 + (y_1 - y_2)^2)^{3/2}} + G m_2 m_3 \\frac{\\begin{pmatrix} x_3 - x_2 \\\\ y_3 - y_2 \\end{pmatrix}}{((x_3 - x_2)^2 + (y_3 - y_2)^2)^{3/2}}\n",
    "$$\n",
    "\n",
    "$$\n",
    "m_3 \\begin{pmatrix} \\ddot{x}_3 \\\\ \\ddot{y}_3 \\end{pmatrix} = G m_3 m_1 \\frac{\\begin{pmatrix} x_1 - x_3 \\\\ y_1 - y_3 \\end{pmatrix}}{((x_1 - x_3)^2 + (y_1 - y_3)^2)^{3/2}} + G m_3 m_2 \\frac{\\begin{pmatrix} x_2 - x_3 \\\\ y_2 - y_3 \\end{pmatrix}}{((x_2 - x_3)^2 + (y_2 - y_3)^2)^{3/2}}\n",
    "$$"
   ]
  }
 ],
 "metadata": {
  "kernelspec": {
   "display_name": "Python 3",
   "language": "python",
   "name": "python3"
  },
  "language_info": {
   "name": "python",
   "version": "3.9.6"
  }
 },
 "nbformat": 4,
 "nbformat_minor": 2
}
